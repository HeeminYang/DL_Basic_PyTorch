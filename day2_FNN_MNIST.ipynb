{
 "cells": [
  {
   "cell_type": "code",
   "execution_count": 275,
   "metadata": {},
   "outputs": [],
   "source": [
    "import torch\n",
    "from torch import nn\n",
    "from torch.nn import functional as F\n",
    "from torch import optim\n",
    "from torch.utils import data\n",
    "\n",
    "from torchvision.datasets import MNIST\n",
    "import torchvision.transforms as transforms"
   ]
  },
  {
   "cell_type": "code",
   "execution_count": 276,
   "metadata": {},
   "outputs": [],
   "source": [
    "train_dataset = MNIST('./data', transform=transforms.ToTensor(), train=True, download=True)\n",
    "test_dataset = MNIST('./data', transform=transforms.ToTensor(), train=False)"
   ]
  },
  {
   "cell_type": "code",
   "execution_count": 277,
   "metadata": {},
   "outputs": [
    {
     "data": {
      "text/plain": [
       "Dataset MNIST\n",
       "    Number of datapoints: 60000\n",
       "    Split: train\n",
       "    Root Location: ./data\n",
       "    Transforms (if any): ToTensor()\n",
       "    Target Transforms (if any): None"
      ]
     },
     "execution_count": 277,
     "metadata": {},
     "output_type": "execute_result"
    }
   ],
   "source": [
    "train_dataset"
   ]
  },
  {
   "attachments": {},
   "cell_type": "markdown",
   "metadata": {},
   "source": [
    "### 60000개의 이미지가 있고, <br>\n",
    "### 한 이미지가 28x28개의 pixels로 구성되어 있다. "
   ]
  },
  {
   "cell_type": "code",
   "execution_count": 278,
   "metadata": {},
   "outputs": [
    {
     "data": {
      "text/plain": [
       "tensor([[  0,   0,   0,   0,   0,   0,   0,   0,   0,   0,   0,   0,   0,   0,\n",
       "           0,   0,   0,   0,   0,   0,   0,   0,   0,   0,   0,   0,   0,   0],\n",
       "        [  0,   0,   0,   0,   0,   0,   0,   0,   0,   0,   0,   0,   0,   0,\n",
       "           0,   0,   0,   0,   0,   0,   0,   0,   0,   0,   0,   0,   0,   0],\n",
       "        [  0,   0,   0,   0,   0,   0,   0,   0,   0,   0,   0,   0,   0,   0,\n",
       "           0,   0,   0,   0,   0,   0,   0,   0,   0,   0,   0,   0,   0,   0],\n",
       "        [  0,   0,   0,   0,   0,   0,   0,   0,   0,   0,   0,   0,   0,   0,\n",
       "           0,   0,   0,   0,   0,   0,   0,   0,   0,   0,   0,   0,   0,   0],\n",
       "        [  0,   0,   0,   0,   0,   0,   0,   0,   0,   0,   0,   0,   0,   0,\n",
       "           0,   0,   0,   0,   0,   0,   0,   0,   0,   0,   0,   0,   0,   0],\n",
       "        [  0,   0,   0,   0,   0,   0,   0,   0,   0,   0,   0,   0,   3,  18,\n",
       "          18,  18, 126, 136, 175,  26, 166, 255, 247, 127,   0,   0,   0,   0],\n",
       "        [  0,   0,   0,   0,   0,   0,   0,   0,  30,  36,  94, 154, 170, 253,\n",
       "         253, 253, 253, 253, 225, 172, 253, 242, 195,  64,   0,   0,   0,   0],\n",
       "        [  0,   0,   0,   0,   0,   0,   0,  49, 238, 253, 253, 253, 253, 253,\n",
       "         253, 253, 253, 251,  93,  82,  82,  56,  39,   0,   0,   0,   0,   0],\n",
       "        [  0,   0,   0,   0,   0,   0,   0,  18, 219, 253, 253, 253, 253, 253,\n",
       "         198, 182, 247, 241,   0,   0,   0,   0,   0,   0,   0,   0,   0,   0],\n",
       "        [  0,   0,   0,   0,   0,   0,   0,   0,  80, 156, 107, 253, 253, 205,\n",
       "          11,   0,  43, 154,   0,   0,   0,   0,   0,   0,   0,   0,   0,   0],\n",
       "        [  0,   0,   0,   0,   0,   0,   0,   0,   0,  14,   1, 154, 253,  90,\n",
       "           0,   0,   0,   0,   0,   0,   0,   0,   0,   0,   0,   0,   0,   0],\n",
       "        [  0,   0,   0,   0,   0,   0,   0,   0,   0,   0,   0, 139, 253, 190,\n",
       "           2,   0,   0,   0,   0,   0,   0,   0,   0,   0,   0,   0,   0,   0],\n",
       "        [  0,   0,   0,   0,   0,   0,   0,   0,   0,   0,   0,  11, 190, 253,\n",
       "          70,   0,   0,   0,   0,   0,   0,   0,   0,   0,   0,   0,   0,   0],\n",
       "        [  0,   0,   0,   0,   0,   0,   0,   0,   0,   0,   0,   0,  35, 241,\n",
       "         225, 160, 108,   1,   0,   0,   0,   0,   0,   0,   0,   0,   0,   0],\n",
       "        [  0,   0,   0,   0,   0,   0,   0,   0,   0,   0,   0,   0,   0,  81,\n",
       "         240, 253, 253, 119,  25,   0,   0,   0,   0,   0,   0,   0,   0,   0],\n",
       "        [  0,   0,   0,   0,   0,   0,   0,   0,   0,   0,   0,   0,   0,   0,\n",
       "          45, 186, 253, 253, 150,  27,   0,   0,   0,   0,   0,   0,   0,   0],\n",
       "        [  0,   0,   0,   0,   0,   0,   0,   0,   0,   0,   0,   0,   0,   0,\n",
       "           0,  16,  93, 252, 253, 187,   0,   0,   0,   0,   0,   0,   0,   0],\n",
       "        [  0,   0,   0,   0,   0,   0,   0,   0,   0,   0,   0,   0,   0,   0,\n",
       "           0,   0,   0, 249, 253, 249,  64,   0,   0,   0,   0,   0,   0,   0],\n",
       "        [  0,   0,   0,   0,   0,   0,   0,   0,   0,   0,   0,   0,   0,   0,\n",
       "          46, 130, 183, 253, 253, 207,   2,   0,   0,   0,   0,   0,   0,   0],\n",
       "        [  0,   0,   0,   0,   0,   0,   0,   0,   0,   0,   0,   0,  39, 148,\n",
       "         229, 253, 253, 253, 250, 182,   0,   0,   0,   0,   0,   0,   0,   0],\n",
       "        [  0,   0,   0,   0,   0,   0,   0,   0,   0,   0,  24, 114, 221, 253,\n",
       "         253, 253, 253, 201,  78,   0,   0,   0,   0,   0,   0,   0,   0,   0],\n",
       "        [  0,   0,   0,   0,   0,   0,   0,   0,  23,  66, 213, 253, 253, 253,\n",
       "         253, 198,  81,   2,   0,   0,   0,   0,   0,   0,   0,   0,   0,   0],\n",
       "        [  0,   0,   0,   0,   0,   0,  18, 171, 219, 253, 253, 253, 253, 195,\n",
       "          80,   9,   0,   0,   0,   0,   0,   0,   0,   0,   0,   0,   0,   0],\n",
       "        [  0,   0,   0,   0,  55, 172, 226, 253, 253, 253, 253, 244, 133,  11,\n",
       "           0,   0,   0,   0,   0,   0,   0,   0,   0,   0,   0,   0,   0,   0],\n",
       "        [  0,   0,   0,   0, 136, 253, 253, 253, 212, 135, 132,  16,   0,   0,\n",
       "           0,   0,   0,   0,   0,   0,   0,   0,   0,   0,   0,   0,   0,   0],\n",
       "        [  0,   0,   0,   0,   0,   0,   0,   0,   0,   0,   0,   0,   0,   0,\n",
       "           0,   0,   0,   0,   0,   0,   0,   0,   0,   0,   0,   0,   0,   0],\n",
       "        [  0,   0,   0,   0,   0,   0,   0,   0,   0,   0,   0,   0,   0,   0,\n",
       "           0,   0,   0,   0,   0,   0,   0,   0,   0,   0,   0,   0,   0,   0],\n",
       "        [  0,   0,   0,   0,   0,   0,   0,   0,   0,   0,   0,   0,   0,   0,\n",
       "           0,   0,   0,   0,   0,   0,   0,   0,   0,   0,   0,   0,   0,   0]],\n",
       "       dtype=torch.uint8)"
      ]
     },
     "execution_count": 278,
     "metadata": {},
     "output_type": "execute_result"
    }
   ],
   "source": [
    "train_dataset.data[0] # 첫번째 이미지, 255에 가까울수록 흰색을 의미"
   ]
  },
  {
   "cell_type": "code",
   "execution_count": 279,
   "metadata": {},
   "outputs": [],
   "source": [
    "import matplotlib.pyplot as plt"
   ]
  },
  {
   "cell_type": "code",
   "execution_count": 280,
   "metadata": {},
   "outputs": [
    {
     "data": {
      "image/png": "[encoded data removed]",
      "text/plain": [
       "<Figure size 432x288 with 1 Axes>"
      ]
     },
     "metadata": {
      "needs_background": "light"
     },
     "output_type": "display_data"
    }
   ],
   "source": [
    "plt.imshow(train_dataset.data[1], cmap='gray') # cmap='gray', vmin=0, vmax=255\n",
    "plt.show()"
   ]
  },
  {
   "cell_type": "code",
   "execution_count": 281,
   "metadata": {},
   "outputs": [
    {
     "data": {
      "image/png": "[encoded data removed]",
      "text/plain": [
       "<Figure size 432x288 with 1 Axes>"
      ]
     },
     "metadata": {
      "needs_background": "light"
     },
     "output_type": "display_data"
    }
   ],
   "source": [
    "plt.imshow(train_dataset.data[1], cmap='gray_r') # cmap='gray', vmin=0, vmax=255\n",
    "plt.show()"
   ]
  },
  {
   "cell_type": "code",
   "execution_count": 282,
   "metadata": {},
   "outputs": [
    {
     "data": {
      "text/plain": [
       "tensor(0)"
      ]
     },
     "execution_count": 282,
     "metadata": {},
     "output_type": "execute_result"
    }
   ],
   "source": [
    "train_dataset.targets[1]"
   ]
  },
  {
   "cell_type": "code",
   "execution_count": 283,
   "metadata": {},
   "outputs": [],
   "source": [
    "class Model(nn.Module):\n",
    "    def __init__(self):\n",
    "        super(Model, self).__init__()\n",
    "        self.Dense1 = nn.Linear(28*28, 512)\n",
    "        self.Classifier = nn.Linear(512, 10)\n",
    "    \n",
    "    def forward(self, x):\n",
    "        x = x.view(-1, 28*28) # 2차원 배열로 만듬\n",
    "        x = F.relu(self.Dense1(x))\n",
    "        return self.Classifier(x)"
   ]
  },
  {
   "attachments": {},
   "cell_type": "markdown",
   "metadata": {},
   "source": [
    "### Hiddenlayer 생성 <br>\n",
    "### 512개의 노드로 구성 <br>\n",
    "### relu를 활성화 함수로 사용 <br>\n",
    "### 28x28개의 input을 받음 <br>\n",
    "### Output layer 생성 <br>\n",
    "### 10개의 노드로 구성 ( = 종속변수가 취할 수 있는 값의 갯수) <br>\n",
    "### softmax 활성화함수 사용: CrossEntropyLoss에 내장되어 있음"
   ]
  },
  {
   "cell_type": "code",
   "execution_count": 284,
   "metadata": {},
   "outputs": [
    {
     "data": {
      "text/plain": [
       "torch.Size([60000, 28, 28])"
      ]
     },
     "execution_count": 284,
     "metadata": {},
     "output_type": "execute_result"
    }
   ],
   "source": [
    "train_dataset.data.shape"
   ]
  },
  {
   "cell_type": "code",
   "execution_count": 285,
   "metadata": {},
   "outputs": [],
   "source": [
    "train_loader = data.DataLoader(dataset = train_dataset, batch_size = 128, shuffle=True)\n",
    "test_loader = data.DataLoader(dataset = test_dataset, batch_size = 128, shuffle = False)"
   ]
  },
  {
   "cell_type": "code",
   "execution_count": 286,
   "metadata": {},
   "outputs": [],
   "source": [
    "model=Model()"
   ]
  },
  {
   "cell_type": "code",
   "execution_count": 287,
   "metadata": {},
   "outputs": [],
   "source": [
    "criterion = nn.CrossEntropyLoss() # softmax가 내장"
   ]
  },
  {
   "cell_type": "code",
   "execution_count": 288,
   "metadata": {},
   "outputs": [],
   "source": [
    "optimizer = optim.RMSprop(model.parameters(), lr=0.001)"
   ]
  },
  {
   "cell_type": "code",
   "execution_count": 289,
   "metadata": {},
   "outputs": [
    {
     "name": "stdout",
     "output_type": "stream",
     "text": [
      "Epoch: 1/10, Acc: 0.9265, Loss0.00195721\n",
      "Epoch: 2/10, Acc: 0.9477, Loss0.00139459\n",
      "Epoch: 3/10, Acc: 0.9581, Loss0.00111419\n",
      "Epoch: 4/10, Acc: 0.9647, Loss0.00093502\n",
      "Epoch: 5/10, Acc: 0.9696, Loss0.00080594\n",
      "Epoch: 6/10, Acc: 0.9733, Loss0.00070746\n",
      "Epoch: 7/10, Acc: 0.9763, Loss0.00062983\n",
      "Epoch: 8/10, Acc: 0.9787, Loss0.00056574\n",
      "Epoch: 9/10, Acc: 0.9807, Loss0.00051350\n",
      "Epoch: 10/10, Acc: 0.9824, Loss0.00046942\n"
     ]
    }
   ],
   "source": [
    "epoch_n = 10\n",
    "total, correct, loss = 0.0, 0.0, 0.0\n",
    "model.train()\n",
    "loss_list = []\n",
    "acc_list = []\n",
    "for epoch in range(epoch_n):\n",
    "    for data, labels in train_loader:\n",
    "        optimizer.zero_grad()\n",
    "\n",
    "        output = model(data)\n",
    "        batch_loss = criterion(output, labels)\n",
    "        loss += batch_loss\n",
    "\n",
    "        _, pred_y = torch.max(output, 1)\n",
    "        pred_y = pred_y.view(-1)\n",
    "        batch_loss.backward()\n",
    "        optimizer.step()\n",
    "        correct += torch.sum(torch.eq(pred_y, labels)).item()\n",
    "        total += len(labels)\n",
    "    \n",
    "    acc = correct/total\n",
    "    loss_epoch = loss/total\n",
    "    loss_list.append(loss_epoch.item())\n",
    "    acc_list.append(acc)\n",
    "    print(f'Epoch: {epoch+1}/{epoch_n}, Acc: {acc:.4f}, Loss{loss_epoch:.8f}')\n"
   ]
  },
  {
   "cell_type": "code",
   "execution_count": 290,
   "metadata": {},
   "outputs": [],
   "source": [
    "torch.save(model, './model/FNN_MNIST.pt')"
   ]
  },
  {
   "attachments": {},
   "cell_type": "markdown",
   "metadata": {},
   "source": [
    "## 예측하기"
   ]
  },
  {
   "cell_type": "code",
   "execution_count": 310,
   "metadata": {},
   "outputs": [
    {
     "name": "stdout",
     "output_type": "stream",
     "text": [
      "Test Acc: 0.9986833333333334, Loss0.00004617\n"
     ]
    }
   ],
   "source": [
    "total, correct, loss = 0.0, 0.0, 0.0\n",
    "model.eval()\n",
    "for data, labels in train_loader:\n",
    "    output = model(data)\n",
    "    batch_loss = criterion(output, labels)\n",
    "    loss += batch_loss\n",
    "\n",
    "    _, pred_y = torch.max(output, 1)\n",
    "    pred_y = pred_y.view(-1)\n",
    "    correct += torch.sum(torch.eq(pred_y, labels)).item()\n",
    "    total += len(labels)\n",
    "\n",
    "acc = correct/total\n",
    "loss_epoch = loss/total\n",
    "print(f'Test Acc: {acc}, Loss{loss_epoch:.8f}')"
   ]
  },
  {
   "cell_type": "code",
   "execution_count": 292,
   "metadata": {},
   "outputs": [
    {
     "data": {
      "text/plain": [
       "7"
      ]
     },
     "execution_count": 292,
     "metadata": {},
     "output_type": "execute_result"
    }
   ],
   "source": [
    "test_loader.dataset[0][1]"
   ]
  },
  {
   "cell_type": "code",
   "execution_count": 293,
   "metadata": {},
   "outputs": [
    {
     "data": {
      "text/plain": [
       "tensor([7])"
      ]
     },
     "execution_count": 293,
     "metadata": {},
     "output_type": "execute_result"
    }
   ],
   "source": [
    "_, pred_y = torch.max(model(test_loader.dataset[0][0][0]), 1)\n",
    "pred_y"
   ]
  },
  {
   "cell_type": "code",
   "execution_count": 294,
   "metadata": {},
   "outputs": [
    {
     "data": {
      "text/plain": [
       "torch.Size([28, 28])"
      ]
     },
     "execution_count": 294,
     "metadata": {},
     "output_type": "execute_result"
    }
   ],
   "source": [
    "test_loader.dataset[0][0][0].shape"
   ]
  },
  {
   "cell_type": "code",
   "execution_count": 295,
   "metadata": {},
   "outputs": [
    {
     "data": {
      "image/png": "[encoded data removed]",
      "text/plain": [
       "<Figure size 432x288 with 1 Axes>"
      ]
     },
     "metadata": {
      "needs_background": "light"
     },
     "output_type": "display_data"
    }
   ],
   "source": [
    "plt.imshow(test_loader.dataset[0][0][0], cmap='gray')\n",
    "plt.show()"
   ]
  },
  {
   "attachments": {},
   "cell_type": "markdown",
   "metadata": {},
   "source": [
    "## Confusion matrix 확인하기"
   ]
  },
  {
   "cell_type": "code",
   "execution_count": 296,
   "metadata": {},
   "outputs": [
    {
     "name": "stdout",
     "output_type": "stream",
     "text": [
      "Test Acc: 0.9824, Loss0.00052627\n"
     ]
    }
   ],
   "source": [
    "total, correct, loss = 0.0, 0.0, 0.0\n",
    "y_ = []\n",
    "y = []\n",
    "model.eval()\n",
    "for data, labels in test_loader:\n",
    "    output = model(data)\n",
    "    batch_loss = criterion(output, labels)\n",
    "    loss += batch_loss\n",
    "\n",
    "    _, pred_y = torch.max(output, 1)\n",
    "    pred_y = pred_y.view(-1)\n",
    "    y_.extend(pred_y)\n",
    "    y.extend(labels)\n",
    "    correct += torch.sum(torch.eq(pred_y, labels)).item()\n",
    "    total += len(labels)\n",
    "\n",
    "acc = correct/total\n",
    "loss_epoch = loss/total\n",
    "print(f'Test Acc: {acc:.4f}, Loss{loss_epoch:.8f}')"
   ]
  },
  {
   "cell_type": "code",
   "execution_count": 297,
   "metadata": {},
   "outputs": [],
   "source": [
    "from sklearn.metrics import classification_report, confusion_matrix"
   ]
  },
  {
   "cell_type": "code",
   "execution_count": 298,
   "metadata": {},
   "outputs": [
    {
     "data": {
      "text/plain": [
       "array([[ 970,    0,    1,    1,    0,    1,    2,    1,    3,    1],\n",
       "       [   0, 1126,    4,    0,    0,    1,    2,    0,    2,    0],\n",
       "       [   1,    1, 1020,    1,    1,    0,    2,    3,    3,    0],\n",
       "       [   1,    0,    6,  992,    0,    3,    0,    1,    2,    5],\n",
       "       [   1,    0,    7,    0,  955,    0,    5,    3,    1,   10],\n",
       "       [   2,    0,    0,    9,    1,  868,    5,    0,    5,    2],\n",
       "       [   2,    2,    0,    1,    1,    1,  951,    0,    0,    0],\n",
       "       [   2,    5,   12,    0,    1,    0,    0, 1003,    2,    3],\n",
       "       [   3,    0,    4,    1,    3,    1,    2,    3,  954,    3],\n",
       "       [   1,    4,    0,    2,    5,    3,    2,    4,    3,  985]])"
      ]
     },
     "execution_count": 298,
     "metadata": {},
     "output_type": "execute_result"
    }
   ],
   "source": [
    "confusion_matrix(y, y_)"
   ]
  },
  {
   "cell_type": "code",
   "execution_count": 299,
   "metadata": {},
   "outputs": [
    {
     "name": "stdout",
     "output_type": "stream",
     "text": [
      "              precision    recall  f1-score   support\n",
      "\n",
      "           0       0.99      0.99      0.99       980\n",
      "           1       0.99      0.99      0.99      1135\n",
      "           2       0.97      0.99      0.98      1032\n",
      "           3       0.99      0.98      0.98      1010\n",
      "           4       0.99      0.97      0.98       982\n",
      "           5       0.99      0.97      0.98       892\n",
      "           6       0.98      0.99      0.99       958\n",
      "           7       0.99      0.98      0.98      1028\n",
      "           8       0.98      0.98      0.98       974\n",
      "           9       0.98      0.98      0.98      1009\n",
      "\n",
      "    accuracy                           0.98     10000\n",
      "   macro avg       0.98      0.98      0.98     10000\n",
      "weighted avg       0.98      0.98      0.98     10000\n",
      "\n"
     ]
    }
   ],
   "source": [
    "print(classification_report(y, y_))"
   ]
  },
  {
   "attachments": {},
   "cell_type": "markdown",
   "metadata": {},
   "source": [
    "# Loss 확인하기"
   ]
  },
  {
   "cell_type": "code",
   "execution_count": 300,
   "metadata": {},
   "outputs": [],
   "source": [
    "import matplotlib.pyplot as plt"
   ]
  },
  {
   "cell_type": "code",
   "execution_count": 301,
   "metadata": {},
   "outputs": [
    {
     "data": {
      "image/png": "[encoded data removed]",
      "text/plain": [
       "<Figure size 432x288 with 1 Axes>"
      ]
     },
     "metadata": {
      "needs_background": "light"
     },
     "output_type": "display_data"
    }
   ],
   "source": [
    "plt.plot(loss_list)\n",
    "plt.xlabel('epoch')\n",
    "plt.ylabel('loss')\n",
    "plt.legend(['train'])\n",
    "plt.show()"
   ]
  },
  {
   "attachments": {},
   "cell_type": "markdown",
   "metadata": {},
   "source": [
    "# Accuracy 확인하기"
   ]
  },
  {
   "cell_type": "code",
   "execution_count": 302,
   "metadata": {},
   "outputs": [
    {
     "data": {
      "image/png": "[encoded data removed]",
      "text/plain": [
       "<Figure size 432x288 with 1 Axes>"
      ]
     },
     "metadata": {
      "needs_background": "light"
     },
     "output_type": "display_data"
    }
   ],
   "source": [
    "plt.plot(acc_list)\n",
    "plt.xlabel('epoch')\n",
    "plt.ylabel('accuracy')\n",
    "plt.legend(['train'])\n",
    "plt.show()"
   ]
  },
  {
   "attachments": {},
   "cell_type": "markdown",
   "metadata": {},
   "source": [
    "## Extended model"
   ]
  },
  {
   "cell_type": "code",
   "execution_count": 303,
   "metadata": {},
   "outputs": [],
   "source": [
    "class Model_ext(nn.Module):\n",
    "    def __init__(self):\n",
    "        super(Model_ext, self).__init__()\n",
    "        self.Dense1 = nn.Linear(28*28, 512)\n",
    "        self.Dense2 = nn.Linear(512, 128)\n",
    "        self.Classifier = nn.Linear(128, 10)\n",
    "    \n",
    "    def forward(self, x):\n",
    "        x = x.view(-1, 28*28) # 2차원 배열로 만듬\n",
    "        x = F.relu(self.Dense1(x))\n",
    "        x = F.relu(self.Dense2(x))\n",
    "        return self.Classifier(x)"
   ]
  },
  {
   "cell_type": "code",
   "execution_count": 304,
   "metadata": {},
   "outputs": [],
   "source": [
    "criterion = nn.CrossEntropyLoss() # softmax가 내장"
   ]
  },
  {
   "cell_type": "code",
   "execution_count": 305,
   "metadata": {},
   "outputs": [],
   "source": [
    "model_ext = Model_ext()"
   ]
  },
  {
   "cell_type": "code",
   "execution_count": 306,
   "metadata": {},
   "outputs": [],
   "source": [
    "optimizer = optim.RMSprop(model_ext.parameters(), lr=0.001)"
   ]
  },
  {
   "cell_type": "code",
   "execution_count": 307,
   "metadata": {},
   "outputs": [
    {
     "name": "stdout",
     "output_type": "stream",
     "text": [
      "Epoch: 1/10, Acc: 0.9252, Loss0.00189778\n",
      "Epoch: 2/10, Acc: 0.9484, Loss0.00130955\n",
      "Epoch: 3/10, Acc: 0.9593, Loss0.00102957\n",
      "Epoch: 4/10, Acc: 0.9662, Loss0.00085380\n",
      "Epoch: 5/10, Acc: 0.9710, Loss0.00073026\n",
      "Epoch: 6/10, Acc: 0.9747, Loss0.00063717\n",
      "Epoch: 7/10, Acc: 0.9775, Loss0.00056569\n",
      "Epoch: 8/10, Acc: 0.9796, Loss0.00051006\n",
      "Epoch: 9/10, Acc: 0.9814, Loss0.00046382\n",
      "Epoch: 10/10, Acc: 0.9829, Loss0.00042559\n"
     ]
    }
   ],
   "source": [
    "epoch_n = 10\n",
    "total, correct, loss = 0.0, 0.0, 0.0\n",
    "model_ext.train()\n",
    "loss_list = []\n",
    "acc_list = []\n",
    "for epoch in range(epoch_n):\n",
    "    for data, labels in train_loader:\n",
    "        optimizer.zero_grad()\n",
    "\n",
    "        output = model_ext(data)\n",
    "        batch_loss = criterion(output, labels)\n",
    "        loss += batch_loss\n",
    "\n",
    "        _, pred_y = torch.max(output, 1)\n",
    "        pred_y = pred_y.view(-1)\n",
    "        batch_loss.backward()\n",
    "        optimizer.step()\n",
    "        correct += torch.sum(torch.eq(pred_y, labels)).item()\n",
    "        total += len(labels)\n",
    "    \n",
    "    acc = correct/total\n",
    "    loss_epoch = loss/total\n",
    "    loss_list.append(loss_epoch.item())\n",
    "    acc_list.append(acc)\n",
    "    print(f'Epoch: {epoch+1}/{epoch_n}, Acc: {acc:.4f}, Loss{loss_epoch:.8f}')\n"
   ]
  },
  {
   "cell_type": "code",
   "execution_count": 308,
   "metadata": {},
   "outputs": [
    {
     "name": "stdout",
     "output_type": "stream",
     "text": [
      "Test Acc: 0.9809, Loss0.00069157\n"
     ]
    }
   ],
   "source": [
    "total, correct, loss = 0.0, 0.0, 0.0\n",
    "model_ext.eval()\n",
    "for data, labels in test_loader:\n",
    "    output = model_ext(data)\n",
    "    batch_loss = criterion(output, labels)\n",
    "    loss += batch_loss\n",
    "\n",
    "    _, pred_y = torch.max(output, 1)\n",
    "    pred_y = pred_y.view(-1)\n",
    "    correct += torch.sum(torch.eq(pred_y, labels)).item()\n",
    "    total += len(labels)\n",
    "\n",
    "acc = correct/total\n",
    "loss_epoch = loss/total\n",
    "print(f'Test Acc: {acc}, Loss{loss_epoch:.8f}')"
   ]
  }
 ],
 "metadata": {
  "kernelspec": {
   "display_name": "test",
   "language": "python",
   "name": "python3"
  },
  "language_info": {
   "codemirror_mode": {
    "name": "ipython",
    "version": 3
   },
   "file_extension": ".py",
   "mimetype": "text/x-python",
   "name": "python",
   "nbconvert_exporter": "python",
   "pygments_lexer": "ipython3",
   "version": "3.8.13 | packaged by conda-forge | (default, Mar 25 2022, 06:05:16) \n[Clang 12.0.1 ]"
  },
  "orig_nbformat": 4,
  "vscode": {
   "interpreter": {
    "hash": "503eebb13905da92d71564026ca422a9577b5c83dba6e6336f6f51ce5fc8ad45"
   }
  }
 },
 "nbformat": 4,
 "nbformat_minor": 2
}
