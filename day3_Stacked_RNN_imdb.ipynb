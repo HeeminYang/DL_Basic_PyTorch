{
  "nbformat": 4,
  "nbformat_minor": 0,
  "metadata": {
    "colab": {
      "provenance": []
    },
    "kernelspec": {
      "name": "python3",
      "display_name": "Python 3"
    },
    "language_info": {
      "name": "python"
    }
  },
  "cells": [
    {
      "cell_type": "code",
      "execution_count": 1,
      "metadata": {
        "colab": {
          "base_uri": "https://localhost:8080/"
        },
        "id": "7ENltsr4wAEl",
        "outputId": "f3082101-e90a-40d5-f594-a5244f6b914e"
      },
      "outputs": [
        {
          "output_type": "stream",
          "name": "stdout",
          "text": [
            "Looking in indexes: https://pypi.org/simple, https://us-python.pkg.dev/colab-wheels/public/simple/\n",
            "Looking in links: https://download.pytorch.org/whl/test/cpu/torch_test.html\n",
            "Collecting torch==1.8.0\n",
            "  Downloading https://download.pytorch.org/whl/test/cpu/torch-1.8.0%2Bcpu-cp38-cp38-linux_x86_64.whl (169.1 MB)\n",
            "\u001b[2K     \u001b[90m━━━━━━━━━━━━━━━━━━━━━━━━━━━━━━━━━━━━━━━\u001b[0m \u001b[32m169.1/169.1 MB\u001b[0m \u001b[31m5.4 MB/s\u001b[0m eta \u001b[36m0:00:00\u001b[0m\n",
            "\u001b[?25hCollecting torchtext==0.9.0\n",
            "  Downloading torchtext-0.9.0-cp38-cp38-manylinux1_x86_64.whl (7.0 MB)\n",
            "\u001b[2K     \u001b[90m━━━━━━━━━━━━━━━━━━━━━━━━━━━━━━━━━━━━━━━━\u001b[0m \u001b[32m7.0/7.0 MB\u001b[0m \u001b[31m37.9 MB/s\u001b[0m eta \u001b[36m0:00:00\u001b[0m\n",
            "\u001b[?25hCollecting torchvision==0.9.0\n",
            "  Downloading https://download.pytorch.org/whl/test/cpu/torchvision-0.9.0%2Bcpu-cp38-cp38-linux_x86_64.whl (13.3 MB)\n",
            "\u001b[2K     \u001b[90m━━━━━━━━━━━━━━━━━━━━━━━━━━━━━━━━━━━━━━━━\u001b[0m \u001b[32m13.3/13.3 MB\u001b[0m \u001b[31m31.0 MB/s\u001b[0m eta \u001b[36m0:00:00\u001b[0m\n",
            "\u001b[?25hRequirement already satisfied: typing-extensions in /usr/local/lib/python3.8/dist-packages (from torch==1.8.0) (4.4.0)\n",
            "Requirement already satisfied: numpy in /usr/local/lib/python3.8/dist-packages (from torch==1.8.0) (1.21.6)\n",
            "Requirement already satisfied: requests in /usr/local/lib/python3.8/dist-packages (from torchtext==0.9.0) (2.25.1)\n",
            "Requirement already satisfied: tqdm in /usr/local/lib/python3.8/dist-packages (from torchtext==0.9.0) (4.64.1)\n",
            "Requirement already satisfied: pillow>=4.1.1 in /usr/local/lib/python3.8/dist-packages (from torchvision==0.9.0) (7.1.2)\n",
            "Requirement already satisfied: idna<3,>=2.5 in /usr/local/lib/python3.8/dist-packages (from requests->torchtext==0.9.0) (2.10)\n",
            "Requirement already satisfied: certifi>=2017.4.17 in /usr/local/lib/python3.8/dist-packages (from requests->torchtext==0.9.0) (2022.12.7)\n",
            "Requirement already satisfied: urllib3<1.27,>=1.21.1 in /usr/local/lib/python3.8/dist-packages (from requests->torchtext==0.9.0) (1.24.3)\n",
            "Requirement already satisfied: chardet<5,>=3.0.2 in /usr/local/lib/python3.8/dist-packages (from requests->torchtext==0.9.0) (4.0.0)\n",
            "Installing collected packages: torch, torchvision, torchtext\n",
            "  Attempting uninstall: torch\n",
            "    Found existing installation: torch 1.13.0+cu116\n",
            "    Uninstalling torch-1.13.0+cu116:\n",
            "      Successfully uninstalled torch-1.13.0+cu116\n",
            "  Attempting uninstall: torchvision\n",
            "    Found existing installation: torchvision 0.14.0+cu116\n",
            "    Uninstalling torchvision-0.14.0+cu116:\n",
            "      Successfully uninstalled torchvision-0.14.0+cu116\n",
            "  Attempting uninstall: torchtext\n",
            "    Found existing installation: torchtext 0.14.0\n",
            "    Uninstalling torchtext-0.14.0:\n",
            "      Successfully uninstalled torchtext-0.14.0\n",
            "\u001b[31mERROR: pip's dependency resolver does not currently take into account all the packages that are installed. This behaviour is the source of the following dependency conflicts.\n",
            "torchaudio 0.13.0+cu116 requires torch==1.13.0, but you have torch 1.8.0+cpu which is incompatible.\u001b[0m\u001b[31m\n",
            "\u001b[0mSuccessfully installed torch-1.8.0+cpu torchtext-0.9.0 torchvision-0.9.0+cpu\n"
          ]
        }
      ],
      "source": [
        "!pip install -f https://download.pytorch.org/whl/test/cpu/torch_test.html torch==1.8.0 torchtext==0.9.0 torchvision==0.9.0"
      ]
    },
    {
      "cell_type": "code",
      "source": [
        "!python -m spacy download en"
      ],
      "metadata": {
        "colab": {
          "base_uri": "https://localhost:8080/"
        },
        "id": "Kj-QynHrwsnI",
        "outputId": "a7cc2753-28a6-4e62-b1e2-499e21f38315"
      },
      "execution_count": 3,
      "outputs": [
        {
          "output_type": "stream",
          "name": "stdout",
          "text": [
            "2023-01-13 06:13:19.177045: E tensorflow/stream_executor/cuda/cuda_driver.cc:271] failed call to cuInit: CUDA_ERROR_NO_DEVICE: no CUDA-capable device is detected\n",
            "\u001b[38;5;3m⚠ As of spaCy v3.0, shortcuts like 'en' are deprecated. Please use the\n",
            "full pipeline package name 'en_core_web_sm' instead.\u001b[0m\n",
            "Looking in indexes: https://pypi.org/simple, https://us-python.pkg.dev/colab-wheels/public/simple/\n",
            "Collecting en-core-web-sm==3.4.1\n",
            "  Downloading https://github.com/explosion/spacy-models/releases/download/en_core_web_sm-3.4.1/en_core_web_sm-3.4.1-py3-none-any.whl (12.8 MB)\n",
            "\u001b[2K     \u001b[90m━━━━━━━━━━━━━━━━━━━━━━━━━━━━━━━━━━━━━━━━\u001b[0m \u001b[32m12.8/12.8 MB\u001b[0m \u001b[31m18.6 MB/s\u001b[0m eta \u001b[36m0:00:00\u001b[0m\n",
            "\u001b[?25hRequirement already satisfied: spacy<3.5.0,>=3.4.0 in /usr/local/lib/python3.8/dist-packages (from en-core-web-sm==3.4.1) (3.4.4)\n",
            "Requirement already satisfied: wasabi<1.1.0,>=0.9.1 in /usr/local/lib/python3.8/dist-packages (from spacy<3.5.0,>=3.4.0->en-core-web-sm==3.4.1) (0.10.1)\n",
            "Requirement already satisfied: smart-open<7.0.0,>=5.2.1 in /usr/local/lib/python3.8/dist-packages (from spacy<3.5.0,>=3.4.0->en-core-web-sm==3.4.1) (6.3.0)\n",
            "Requirement already satisfied: setuptools in /usr/local/lib/python3.8/dist-packages (from spacy<3.5.0,>=3.4.0->en-core-web-sm==3.4.1) (57.4.0)\n",
            "Requirement already satisfied: langcodes<4.0.0,>=3.2.0 in /usr/local/lib/python3.8/dist-packages (from spacy<3.5.0,>=3.4.0->en-core-web-sm==3.4.1) (3.3.0)\n",
            "Requirement already satisfied: spacy-loggers<2.0.0,>=1.0.0 in /usr/local/lib/python3.8/dist-packages (from spacy<3.5.0,>=3.4.0->en-core-web-sm==3.4.1) (1.0.4)\n",
            "Requirement already satisfied: cymem<2.1.0,>=2.0.2 in /usr/local/lib/python3.8/dist-packages (from spacy<3.5.0,>=3.4.0->en-core-web-sm==3.4.1) (2.0.7)\n",
            "Requirement already satisfied: murmurhash<1.1.0,>=0.28.0 in /usr/local/lib/python3.8/dist-packages (from spacy<3.5.0,>=3.4.0->en-core-web-sm==3.4.1) (1.0.9)\n",
            "Requirement already satisfied: preshed<3.1.0,>=3.0.2 in /usr/local/lib/python3.8/dist-packages (from spacy<3.5.0,>=3.4.0->en-core-web-sm==3.4.1) (3.0.8)\n",
            "Requirement already satisfied: pydantic!=1.8,!=1.8.1,<1.11.0,>=1.7.4 in /usr/local/lib/python3.8/dist-packages (from spacy<3.5.0,>=3.4.0->en-core-web-sm==3.4.1) (1.10.4)\n",
            "Requirement already satisfied: numpy>=1.15.0 in /usr/local/lib/python3.8/dist-packages (from spacy<3.5.0,>=3.4.0->en-core-web-sm==3.4.1) (1.21.6)\n",
            "Requirement already satisfied: packaging>=20.0 in /usr/local/lib/python3.8/dist-packages (from spacy<3.5.0,>=3.4.0->en-core-web-sm==3.4.1) (21.3)\n",
            "Requirement already satisfied: srsly<3.0.0,>=2.4.3 in /usr/local/lib/python3.8/dist-packages (from spacy<3.5.0,>=3.4.0->en-core-web-sm==3.4.1) (2.4.5)\n",
            "Requirement already satisfied: tqdm<5.0.0,>=4.38.0 in /usr/local/lib/python3.8/dist-packages (from spacy<3.5.0,>=3.4.0->en-core-web-sm==3.4.1) (4.64.1)\n",
            "Requirement already satisfied: jinja2 in /usr/local/lib/python3.8/dist-packages (from spacy<3.5.0,>=3.4.0->en-core-web-sm==3.4.1) (2.11.3)\n",
            "Requirement already satisfied: typer<0.8.0,>=0.3.0 in /usr/local/lib/python3.8/dist-packages (from spacy<3.5.0,>=3.4.0->en-core-web-sm==3.4.1) (0.7.0)\n",
            "Requirement already satisfied: requests<3.0.0,>=2.13.0 in /usr/local/lib/python3.8/dist-packages (from spacy<3.5.0,>=3.4.0->en-core-web-sm==3.4.1) (2.25.1)\n",
            "Requirement already satisfied: thinc<8.2.0,>=8.1.0 in /usr/local/lib/python3.8/dist-packages (from spacy<3.5.0,>=3.4.0->en-core-web-sm==3.4.1) (8.1.6)\n",
            "Requirement already satisfied: pathy>=0.3.5 in /usr/local/lib/python3.8/dist-packages (from spacy<3.5.0,>=3.4.0->en-core-web-sm==3.4.1) (0.10.1)\n",
            "Requirement already satisfied: spacy-legacy<3.1.0,>=3.0.10 in /usr/local/lib/python3.8/dist-packages (from spacy<3.5.0,>=3.4.0->en-core-web-sm==3.4.1) (3.0.11)\n",
            "Requirement already satisfied: catalogue<2.1.0,>=2.0.6 in /usr/local/lib/python3.8/dist-packages (from spacy<3.5.0,>=3.4.0->en-core-web-sm==3.4.1) (2.0.8)\n",
            "Requirement already satisfied: pyparsing!=3.0.5,>=2.0.2 in /usr/local/lib/python3.8/dist-packages (from packaging>=20.0->spacy<3.5.0,>=3.4.0->en-core-web-sm==3.4.1) (3.0.9)\n",
            "Requirement already satisfied: typing-extensions>=4.2.0 in /usr/local/lib/python3.8/dist-packages (from pydantic!=1.8,!=1.8.1,<1.11.0,>=1.7.4->spacy<3.5.0,>=3.4.0->en-core-web-sm==3.4.1) (4.4.0)\n",
            "Requirement already satisfied: urllib3<1.27,>=1.21.1 in /usr/local/lib/python3.8/dist-packages (from requests<3.0.0,>=2.13.0->spacy<3.5.0,>=3.4.0->en-core-web-sm==3.4.1) (1.24.3)\n",
            "Requirement already satisfied: chardet<5,>=3.0.2 in /usr/local/lib/python3.8/dist-packages (from requests<3.0.0,>=2.13.0->spacy<3.5.0,>=3.4.0->en-core-web-sm==3.4.1) (4.0.0)\n",
            "Requirement already satisfied: idna<3,>=2.5 in /usr/local/lib/python3.8/dist-packages (from requests<3.0.0,>=2.13.0->spacy<3.5.0,>=3.4.0->en-core-web-sm==3.4.1) (2.10)\n",
            "Requirement already satisfied: certifi>=2017.4.17 in /usr/local/lib/python3.8/dist-packages (from requests<3.0.0,>=2.13.0->spacy<3.5.0,>=3.4.0->en-core-web-sm==3.4.1) (2022.12.7)\n",
            "Requirement already satisfied: blis<0.8.0,>=0.7.8 in /usr/local/lib/python3.8/dist-packages (from thinc<8.2.0,>=8.1.0->spacy<3.5.0,>=3.4.0->en-core-web-sm==3.4.1) (0.7.9)\n",
            "Requirement already satisfied: confection<1.0.0,>=0.0.1 in /usr/local/lib/python3.8/dist-packages (from thinc<8.2.0,>=8.1.0->spacy<3.5.0,>=3.4.0->en-core-web-sm==3.4.1) (0.0.3)\n",
            "Requirement already satisfied: click<9.0.0,>=7.1.1 in /usr/local/lib/python3.8/dist-packages (from typer<0.8.0,>=0.3.0->spacy<3.5.0,>=3.4.0->en-core-web-sm==3.4.1) (7.1.2)\n",
            "Requirement already satisfied: MarkupSafe>=0.23 in /usr/local/lib/python3.8/dist-packages (from jinja2->spacy<3.5.0,>=3.4.0->en-core-web-sm==3.4.1) (2.0.1)\n",
            "\u001b[38;5;2m✔ Download and installation successful\u001b[0m\n",
            "You can now load the package via spacy.load('en_core_web_sm')\n"
          ]
        }
      ]
    },
    {
      "cell_type": "code",
      "source": [
        "import torch\n",
        "from torchtext.legacy import data\n",
        "\n",
        "TEXT = data.Field(tokenize = 'spacy',\n",
        "                  tokenizer_language = 'en')\n",
        "LABEL = data.LabelField(dtype = torch.float) # pos -> 1 / neg -> 0"
      ],
      "metadata": {
        "id": "niI0bicVwRxD"
      },
      "execution_count": 4,
      "outputs": []
    },
    {
      "cell_type": "code",
      "source": [
        "from torchtext.legacy import datasets\n",
        "\n",
        "train_data, test_data = datasets.IMDB.splits(TEXT, LABEL)"
      ],
      "metadata": {
        "colab": {
          "base_uri": "https://localhost:8080/"
        },
        "id": "-N2aolHUwaS1",
        "outputId": "91e7b75e-205a-4ff8-e245-7275c9b88aba"
      },
      "execution_count": 7,
      "outputs": [
        {
          "output_type": "stream",
          "name": "stdout",
          "text": [
            "downloading aclImdb_v1.tar.gz\n"
          ]
        },
        {
          "output_type": "stream",
          "name": "stderr",
          "text": [
            "aclImdb_v1.tar.gz: 100%|██████████| 84.1M/84.1M [00:01<00:00, 52.4MB/s]\n"
          ]
        }
      ]
    },
    {
      "cell_type": "code",
      "source": [
        "print(f'training examples 수 : {len(train_data)}')\n",
        "print(f'testing examples 수 : {len(test_data)}')"
      ],
      "metadata": {
        "colab": {
          "base_uri": "https://localhost:8080/"
        },
        "id": "mRgvLSQbxHFZ",
        "outputId": "83bd2690-39ae-4e50-dbfa-305ee73059ab"
      },
      "execution_count": 8,
      "outputs": [
        {
          "output_type": "stream",
          "name": "stdout",
          "text": [
            "training examples 수 : 25000\n",
            "testing examples 수 : 25000\n"
          ]
        }
      ]
    },
    {
      "cell_type": "code",
      "source": [
        "MAX_VOCAB_SIZE = 25_000\n",
        "\n",
        "TEXT.build_vocab(train_data, max_size = MAX_VOCAB_SIZE, min_freq = 5)\n",
        "LABEL.build_vocab(train_data)"
      ],
      "metadata": {
        "id": "VTxa8weIxQAu"
      },
      "execution_count": 9,
      "outputs": []
    },
    {
      "cell_type": "code",
      "source": [
        "train_data, valid_data = train_data.split(split_ratio=0.8)"
      ],
      "metadata": {
        "id": "W80G5MvP0TjL"
      },
      "execution_count": 25,
      "outputs": []
    },
    {
      "cell_type": "code",
      "source": [
        "print(f'training examples 수 : {len(train_data)}')\n",
        "print(f'validations examples 수 : {len(valid_data)}')\n",
        "print(f'testing examples 수 : {len(test_data)}')"
      ],
      "metadata": {
        "colab": {
          "base_uri": "https://localhost:8080/"
        },
        "id": "LSe74X5e3Yfw",
        "outputId": "afb7c2da-5192-42a2-91af-08555d4363e8"
      },
      "execution_count": 44,
      "outputs": [
        {
          "output_type": "stream",
          "name": "stdout",
          "text": [
            "training examples 수 : 12800\n",
            "validations examples 수 : 3200\n",
            "testing examples 수 : 25000\n"
          ]
        }
      ]
    },
    {
      "cell_type": "code",
      "source": [
        "BATCH_SIZE = 128\n",
        "\n",
        "train_loader, valid_loader, test_loader = data.BucketIterator.splits(\n",
        "    (train_data, valid_data, test_data),\n",
        "    batch_size = BATCH_SIZE,\n",
        ")"
      ],
      "metadata": {
        "id": "e3jiA0sHxXFs"
      },
      "execution_count": 27,
      "outputs": []
    },
    {
      "cell_type": "code",
      "source": [
        "import torch\n",
        "import torch.utils.data as Data\n",
        "from torch import nn\n",
        "from torch.nn import functional as F\n",
        "from torch import optim\n"
      ],
      "metadata": {
        "id": "QNk2vXEPx_vk"
      },
      "execution_count": 113,
      "outputs": []
    },
    {
      "cell_type": "code",
      "source": [
        "class Model(nn.Module):\n",
        "    def __init__(self, n_feature):\n",
        "        super().__init__()\n",
        "        self.embedding = nn.Embedding(n_feature, 64)\n",
        "        self.rnn = nn.RNN(64, 32)\n",
        "        self.Classifier = nn.Linear(32, 1)\n",
        "    \n",
        "    def forward(self, x):\n",
        "        x = self.embedding(x)\n",
        "        x, hidden = self.rnn(x)\n",
        "        return self.Classifier(hidden[-1,:,:])"
      ],
      "metadata": {
        "id": "d8lvw7Hlxp8D"
      },
      "execution_count": 127,
      "outputs": []
    },
    {
      "cell_type": "code",
      "source": [
        "n_feature = len(TEXT.vocab)"
      ],
      "metadata": {
        "id": "9rwHNlOiySDf"
      },
      "execution_count": 128,
      "outputs": []
    },
    {
      "cell_type": "code",
      "source": [
        "model = Model(n_feature)"
      ],
      "metadata": {
        "id": "v_vkzMLAzX3-"
      },
      "execution_count": 129,
      "outputs": []
    },
    {
      "cell_type": "code",
      "source": [
        "criterion = nn.BCEWithLogitsLoss() # softmax가 내장"
      ],
      "metadata": {
        "id": "Rkr0uFqTzPxh"
      },
      "execution_count": 130,
      "outputs": []
    },
    {
      "cell_type": "code",
      "source": [
        "optimizer = optim.RMSprop(model.parameters(), lr=0.001)"
      ],
      "metadata": {
        "id": "Dj1grpo4zQ8G"
      },
      "execution_count": 131,
      "outputs": []
    },
    {
      "cell_type": "code",
      "source": [
        "import numpy as np"
      ],
      "metadata": {
        "id": "WeRi-VR5z0Yu"
      },
      "execution_count": 132,
      "outputs": []
    },
    {
      "cell_type": "code",
      "source": [
        "def binary_accuracy(preds, y):\n",
        "\n",
        "  rounded_preds = torch.round(torch.sigmoid(preds))\n",
        "  # rounded_preds : [batch size]\n",
        "  # y : batch.label\n",
        "  correct = (rounded_preds == y).float()\n",
        "  acc = correct.sum() / len(correct)\n",
        "  return acc"
      ],
      "metadata": {
        "id": "tLBxiniw1j80"
      },
      "execution_count": 133,
      "outputs": []
    },
    {
      "cell_type": "code",
      "source": [
        "epoch_n = 10\n",
        "\n",
        "for epoch in range(epoch_n):\n",
        "    epoch_loss = 0\n",
        "    epoch_acc = 0\n",
        "    model.train()\n",
        "    for data in train_loader:\n",
        "        optimizer.zero_grad()\n",
        "        output = model(data.text).squeeze(1)\n",
        "        loss = criterion(output, data.label)\n",
        "\n",
        "        acc = binary_accuracy(output, data.label)\n",
        "\n",
        "        loss.backward()\n",
        "        optimizer.step()\n",
        "        epoch_loss += loss.item()\n",
        "        epoch_acc += acc.item()\n",
        "        loss_epoch, acc =epoch_loss / len(train_loader), epoch_acc / len(train_loader)\n",
        "\n",
        "    model.eval()\n",
        "    epoch_v_loss = 0\n",
        "    epoch_v_acc = 0\n",
        "    for data in valid_loader:\n",
        "        output = model(data.text).squeeze(1)\n",
        "        loss = criterion(output, data.label)\n",
        "        acc = binary_accuracy(output, data.label)\n",
        "    \n",
        "        epoch_v_loss += loss.item()\n",
        "        epoch_v_acc += acc.item()\n",
        "        loss_epoch_v, acc_v =epoch_loss / len(train_loader), epoch_acc / len(train_loader)\n",
        "\n",
        "    print(f'Epoch {epoch+1}/{epoch_n}: train_Acc: {acc:.4f}, train_Loss{loss_epoch:.8f}, valid_Acc: {acc_v:.4f}, valid_Loss{loss_epoch_v:.8f}')\n"
      ],
      "metadata": {
        "colab": {
          "base_uri": "https://localhost:8080/"
        },
        "id": "lrUwYVtC_DcE",
        "outputId": "ee482eb5-6497-4da7-c238-074ae469020c"
      },
      "execution_count": 135,
      "outputs": [
        {
          "output_type": "stream",
          "name": "stdout",
          "text": [
            "Epoch 1/10: train_Acc: 0.4531, train_Loss0.69403444, valid_Acc: 0.4981, valid_Loss0.69403444\n",
            "Epoch 2/10: train_Acc: 0.5391, train_Loss0.69373156, valid_Acc: 0.4998, valid_Loss0.69373156\n",
            "Epoch 3/10: train_Acc: 0.4531, train_Loss0.69339442, valid_Acc: 0.4963, valid_Loss0.69339442\n",
            "Epoch 4/10: train_Acc: 0.4531, train_Loss0.69304368, valid_Acc: 0.5052, valid_Loss0.69304368\n",
            "Epoch 5/10: train_Acc: 0.5391, train_Loss0.69281675, valid_Acc: 0.4992, valid_Loss0.69281675\n",
            "Epoch 6/10: train_Acc: 0.4531, train_Loss0.69235480, valid_Acc: 0.5045, valid_Loss0.69235480\n",
            "Epoch 7/10: train_Acc: 0.5391, train_Loss0.69233362, valid_Acc: 0.5051, valid_Loss0.69233362\n",
            "Epoch 8/10: train_Acc: 0.4531, train_Loss0.69184903, valid_Acc: 0.5072, valid_Loss0.69184903\n",
            "Epoch 9/10: train_Acc: 0.4531, train_Loss0.69242696, valid_Acc: 0.4958, valid_Loss0.69242696\n",
            "Epoch 10/10: train_Acc: 0.4531, train_Loss0.69161433, valid_Acc: 0.4999, valid_Loss0.69161433\n"
          ]
        }
      ]
    },
    {
      "cell_type": "code",
      "source": [
        "model.eval()\n",
        "epoch_v_loss = 0\n",
        "epoch_v_acc = 0\n",
        "for data in test_loader:\n",
        "    output = model(data.text).squeeze(1)\n",
        "    loss = criterion(output, data.label)\n",
        "    acc = binary_accuracy(output, data.label)\n",
        "\n",
        "    epoch_v_loss += loss.item()\n",
        "    epoch_v_acc += acc.item()\n",
        "    loss_epoch_v, acc_v =epoch_loss / len(train_loader), epoch_acc / len(train_loader)\n",
        "\n",
        "print(f'Epoch {epoch+1}/{epoch_n}: Test_Acc: {acc_v:.4f}, Test_Loss{loss_epoch_v:.8f}')\n"
      ],
      "metadata": {
        "colab": {
          "base_uri": "https://localhost:8080/"
        },
        "id": "arXbfttoAmAk",
        "outputId": "eab2d8a7-ace1-4c8c-dac0-600b423ec711"
      },
      "execution_count": 137,
      "outputs": [
        {
          "output_type": "stream",
          "name": "stdout",
          "text": [
            "Epoch 10/10: Test_Acc: 0.4999, Test_Loss0.69161433\n"
          ]
        }
      ]
    },
    {
      "cell_type": "code",
      "source": [
        "# 1-layer 결과\n",
        "epoch_n = 10\n",
        "\n",
        "for epoch in range(epoch_n):\n",
        "    epoch_loss = 0\n",
        "    epoch_acc = 0\n",
        "    model.train()\n",
        "    for data in train_loader:\n",
        "        optimizer.zero_grad()\n",
        "\n",
        "        output = model(data.text).squeeze(1)\n",
        "        loss = criterion(output, data.label)\n",
        "\n",
        "        acc = binary_accuracy(output, data.label)\n",
        "\n",
        "        loss.backward()\n",
        "        optimizer.step()\n",
        "        epoch_loss += loss.item()\n",
        "        epoch_acc += acc.item()\n",
        "        loss_epoch, acc =epoch_loss / len(train_loader), epoch_acc / len(train_loader)\n",
        "\n",
        "    model.eval()\n",
        "    epoch_v_loss = 0\n",
        "    epoch_v_acc = 0\n",
        "    for data in valid_loader:\n",
        "        output = model(data.text).squeeze(1)\n",
        "        loss = criterion(output, data.label)\n",
        "        acc = binary_accuracy(output, data.label)\n",
        "    \n",
        "        epoch_v_loss += loss.item()\n",
        "        epoch_v_acc += acc.item()\n",
        "        loss_epoch_v, acc_v =epoch_loss / len(train_loader), epoch_acc / len(train_loader)\n",
        "\n",
        "    print(f'Epoch {epoch+1}/{epoch_n}: train_Acc: {acc:.4f}, train_Loss{loss_epoch:.8f}, valid_Acc: {acc_v:.4f}, valid_Loss{loss_epoch_v:.8f}')\n"
      ],
      "metadata": {
        "colab": {
          "base_uri": "https://localhost:8080/"
        },
        "id": "lrvOd4w8zeJo",
        "outputId": "7237212e-570c-4570-c57c-6f67a6fde6bd"
      },
      "execution_count": 112,
      "outputs": [
        {
          "output_type": "stream",
          "name": "stdout",
          "text": [
            "Epoch 1/10: train_Acc: 0.5469, train_Loss0.69682066, valid_Acc: 0.4944, valid_Loss0.69682066\n",
            "Epoch 2/10: train_Acc: 0.4609, train_Loss0.69390388, valid_Acc: 0.4988, valid_Loss0.69390388\n",
            "Epoch 3/10: train_Acc: 0.5391, train_Loss0.69364769, valid_Acc: 0.5034, valid_Loss0.69364769\n",
            "Epoch 4/10: train_Acc: 0.5391, train_Loss0.69347102, valid_Acc: 0.4974, valid_Loss0.69347102\n",
            "Epoch 5/10: train_Acc: 0.5391, train_Loss0.69317587, valid_Acc: 0.4976, valid_Loss0.69317587\n",
            "Epoch 6/10: train_Acc: 0.4531, train_Loss0.69297602, valid_Acc: 0.5038, valid_Loss0.69297602\n",
            "Epoch 7/10: train_Acc: 0.4531, train_Loss0.69291159, valid_Acc: 0.5074, valid_Loss0.69291159\n",
            "Epoch 8/10: train_Acc: 0.4531, train_Loss0.69298158, valid_Acc: 0.4985, valid_Loss0.69298158\n",
            "Epoch 9/10: train_Acc: 0.4531, train_Loss0.69254221, valid_Acc: 0.4996, valid_Loss0.69254221\n",
            "Epoch 10/10: train_Acc: 0.4531, train_Loss0.69225293, valid_Acc: 0.5021, valid_Loss0.69225293\n"
          ]
        }
      ]
    }
  ]
}